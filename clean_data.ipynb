{
 "cells": [
  {
   "cell_type": "markdown",
   "metadata": {},
   "source": [
    "# Ancestory Product Analytics - Predicting Cross Sells\n",
    "\n",
    "Ancestry provides a way to track their geneology and trace back their family trees. Users often first experience the product through a DNA Kit. They then go on to purchase a subscription.\n",
    "\n",
    "The goal of this project is to understand what factors and customer behaviors best predict a cross-sell to a subscription.\n",
    "\n",
    "## Import data and libraries"
   ]
  },
  {
   "cell_type": "code",
   "execution_count": 96,
   "metadata": {},
   "outputs": [],
   "source": [
    "# Import Libraries\n",
    "import numpy             as np \n",
    "import pandas            as pd \n",
    "import matplotlib.pyplot as plt"
   ]
  },
  {
   "cell_type": "code",
   "execution_count": 79,
   "metadata": {},
   "outputs": [],
   "source": [
    "# Load Data\n",
    "data = pd.read_csv('../../take-home_exercise_data.csv')"
   ]
  },
  {
   "cell_type": "markdown",
   "metadata": {},
   "source": [
    "## Clean data for EDA"
   ]
  },
  {
   "cell_type": "markdown",
   "metadata": {},
   "source": [
    "Replace 'NA' and '-1' values with nan"
   ]
  },
  {
   "cell_type": "code",
   "execution_count": 80,
   "metadata": {},
   "outputs": [],
   "source": [
    "# Replace 'NA' with nan\n",
    "data.replace('NA', np.nan, inplace= True)\n",
    "\n",
    "# Replace '-1' with nan in daystogetresult_grp\n",
    "data.loc[data.daystogetresult_grp == '-1', 'daystogetresult_grp'] = np.nan"
   ]
  },
  {
   "cell_type": "markdown",
   "metadata": {},
   "source": [
    "Convert strings to numeric and date-time"
   ]
  },
  {
   "cell_type": "code",
   "execution_count": 81,
   "metadata": {},
   "outputs": [],
   "source": [
    "# xsell_day_exact: convert to numeric\n",
    "data['xsell_day_exact'] = pd.to_numeric(data['xsell_day_exact'])\n",
    "\n",
    "# dnatestactivationdayid: convert to datetime\n",
    "data['dnatestactivationdayid'] = pd.to_datetime(data['dnatestactivationdayid']).dt.date"
   ]
  },
  {
   "cell_type": "code",
   "execution_count": 82,
   "metadata": {},
   "outputs": [],
   "source": [
    "# Trim ' weeks' from string and create new 'weekstogetresult_grp' column\n",
    "data['weekstogetresult_grp'] = data['daystogetresult_grp']\n",
    "data['weekstogetresult_grp'] = data['weekstogetresult_grp'].str.replace('weeks', '')\n",
    "data['weekstogetresult_grp'] = data['weekstogetresult_grp'].str.replace('week' , '')"
   ]
  },
  {
   "cell_type": "markdown",
   "metadata": {},
   "source": [
    "Clean Strings"
   ]
  },
  {
   "cell_type": "code",
   "execution_count": 83,
   "metadata": {},
   "outputs": [],
   "source": [
    "## regtenure: clean strings\n",
    "data['regtenure'].replace('More than 120 days old', '>120',  inplace=True)\n",
    "data['regtenure'].replace('Order prior to reg',     '0',     inplace=True)\n",
    "data['regtenure'].replace('No Reg Date',             np.nan, inplace=True)\n",
    "data['regtenure'] = data['regtenure'].str.replace(' days', '')\n",
    "data['regtenure'] = data['regtenure'].str.replace(' day',  '')"
   ]
  },
  {
   "cell_type": "code",
   "execution_count": 84,
   "metadata": {},
   "outputs": [],
   "source": [
    "# dna_visittrafficsubtype\n",
    "# aggregate values into new 'traffic_source' column\n",
    "\n",
    "data.loc[data['dna_visittrafficsubtype'].str.contains('unknown', case=False), 'traffic_source']             = 'unknown'\n",
    "data.loc[data['dna_visittrafficsubtype'].str.contains('email', case=False), 'traffic_source']               = 'email'\n",
    "data.loc[data['dna_visittrafficsubtype'].str.contains('social', case=False), 'traffic_source']              = 'social'\n",
    "data.loc[data['dna_visittrafficsubtype'].str.contains('organic', case=False), 'traffic_source']             = 'organic search'\n",
    "data.loc[data['dna_visittrafficsubtype'].str.contains('paid search', case=False), 'traffic_source']         = 'paid search'\n",
    "data.loc[data['dna_visittrafficsubtype'].str.contains('affiliate', case=False), 'traffic_source']           = 'affiliate external'\n",
    "data.loc[data['dna_visittrafficsubtype'].str.contains('content marketing', case=False), 'traffic_source']   = 'content marketing'\n",
    "data.loc[data['dna_visittrafficsubtype'].str.contains('external referrals', case=False), 'traffic_source']  = 'external referrals'\n",
    "data.loc[data['dna_visittrafficsubtype'].str.contains('internal referrals', case=False), 'traffic_source']  = 'internal referrals'\n",
    "data.loc[data['dna_visittrafficsubtype'].str.contains('external paid media', case=False), 'traffic_source'] = 'external paid media'\n",
    "data.loc[data['dna_visittrafficsubtype'].str.contains('app', case=False), 'traffic_source']                 = 'app'\n",
    "\n",
    "data.loc[data['dna_visittrafficsubtype'].isin(['direct non-homepage', 'direct dna homepage', \n",
    "                                               'direct core homepage', 'Direct']), 'traffic_source'] = 'direct'\n",
    "\n",
    "data.loc[data['dna_visittrafficsubtype'].isin(['Digital Video', 'Direct Mail', 'Feeders', 'FindAGrave', \n",
    "                                              'FTM Software Integration','geo-redirect', 'Inbound', 'Library/Assoc.', \n",
    "                                              'Mobile', 'Overlays', 'Partners', 'Radio Brand/PR', 'Search', \n",
    "                                              'Telemarketing Other (short term 8/31/05)', 'TV Brand/PR', 'Web Property',\n",
    "                                              'Biz Dev', 'Kiosk', 'Display'])\n",
    "                                              ,'traffic_source'] = 'other'\n",
    "\n",
    "# Other Potential Segmentations\n",
    "# paid vs non-paid\n",
    "# Search: brand core, brand dna, non-brand\n",
    "# Landing Page: dna, home, other"
   ]
  },
  {
   "cell_type": "markdown",
   "metadata": {},
   "source": [
    "**Remove kit orders from existing ACOM subscribers**"
   ]
  },
  {
   "cell_type": "code",
   "execution_count": 85,
   "metadata": {},
   "outputs": [],
   "source": [
    "data = data[data['customer_type_group'] != 'Acom Sub']"
   ]
  },
  {
   "cell_type": "markdown",
   "metadata": {},
   "source": [
    "Remove columns with irregular dates"
   ]
  },
  {
   "cell_type": "markdown",
   "metadata": {},
   "source": [
    "**Export CSV for EDA**"
   ]
  },
  {
   "cell_type": "code",
   "execution_count": 86,
   "metadata": {},
   "outputs": [],
   "source": [
    "data.to_csv('cross_sell_data2.csv', encoding='utf-8', index=False)"
   ]
  }
 ],
 "metadata": {
  "kernelspec": {
   "display_name": "Python 3",
   "language": "python",
   "name": "python3"
  },
  "language_info": {
   "codemirror_mode": {
    "name": "ipython",
    "version": 3
   },
   "file_extension": ".py",
   "mimetype": "text/x-python",
   "name": "python",
   "nbconvert_exporter": "python",
   "pygments_lexer": "ipython3",
   "version": "3.6.4"
  }
 },
 "nbformat": 4,
 "nbformat_minor": 2
}
